{
 "cells": [
  {
   "cell_type": "code",
   "execution_count": null,
   "metadata": {},
   "outputs": [],
   "source": [
    "from sklearn.linear_model import LinearRegression\n",
    "\n",
    "# Input features (number of bedrooms and house area)\n",
    "X = [[1, 750], [2, 1000], [3, 1250], [4, 1500], [5, 1750]]\n",
    "\n",
    "# Target variable (house prices)\n",
    "y = [250000, 350000, 450000, 550000, 650000]\n",
    "\n",
    "# Create a linear regression model\n",
    "model = LinearRegression()"
   ]
  },
  {
   "cell_type": "code",
   "execution_count": null,
   "metadata": {},
   "outputs": [],
   "source": [
    "\n",
    "# Train the model\n",
    "model.fit(X, y)"
   ]
  },
  {
   "cell_type": "code",
   "execution_count": null,
   "metadata": {},
   "outputs": [],
   "source": [
    "\n",
    "# Make predictions\n",
    "bedrooms = 3\n",
    "area = 1000\n",
    "test = [[1, 1700]]\n",
    "price = model.predict(test)\n",
    "\n",
    "print(f\"Predicted price for a {bedrooms}-bedroom house with {area} sq.ft. area: ${price[0]}\")"
   ]
  },
  {
   "cell_type": "code",
   "execution_count": null,
   "metadata": {},
   "outputs": [],
   "source": [
    "from threading import Thread\n",
    "import time\n",
    "\n",
    "def test1():\n",
    "    time.sleep(3)\n",
    "    print('test1')\n",
    "    return\n",
    "\n",
    "def test2():\n",
    "    time.sleep(1)\n",
    "    print('test2')\n",
    "    return\n",
    "\n",
    "t1 = Thread(target=test1)\n",
    "t2 = Thread(target=test2)\n",
    "\n",
    "t1.start()\n",
    "t2.start()\n"
   ]
  },
  {
   "cell_type": "code",
   "execution_count": 1,
   "metadata": {},
   "outputs": [
    {
     "name": "stdout",
     "output_type": "stream",
     "text": [
      "pygame 2.1.0 (SDL 2.0.16, Python 3.10.11)\n",
      "Hello from the pygame community. https://www.pygame.org/contribute.html\n"
     ]
    }
   ],
   "source": [
    "import pygame, time, math\n",
    "from threading import Thread\n",
    "from functions import renderBlocks, collisionCheck\n",
    "\n",
    "\n",
    "acceleration = 0\n",
    "y = 400\n",
    "x = 400\n",
    "done = True\n",
    "width, height = 840, 1340\n",
    "\n",
    "def Game():\n",
    "    global acceleration, x, y, done, width, height\n",
    "\n",
    "    pygame.init()\n",
    "    pygame.display.init()\n",
    "    display = pygame.display.set_mode((width, height))\n",
    "    pygame.display.set_caption('Simple Game')\n",
    "\n",
    "    currentTime = 0\n",
    "    frames = 0\n",
    "    font = pygame.font.Font('freesansbold.ttf', 18)\n",
    "    text = font.render(str(frames), True, (0, 0, 0), (255, 255, 255))\n",
    "\n",
    "    while done:\n",
    "\n",
    "        for event in pygame.event.get():\n",
    "            if event.type == pygame.QUIT or pygame.key.get_pressed()[pygame.K_ESCAPE]:\n",
    "                done = False\n",
    "\n",
    "        if pygame.key.get_pressed()[pygame.K_UP] and acceleration == 0:\n",
    "            acceleration = -5\n",
    "        elif pygame.key.get_pressed()[pygame.K_LEFT] and x > 0:\n",
    "            x -= 3\n",
    "        elif pygame.key.get_pressed()[pygame.K_RIGHT] and x < width - 40:\n",
    "            x += 3\n",
    "\n",
    "        display.fill((255, 255, 255))\n",
    "\n",
    "        y += acceleration\n",
    "\n",
    "        if acceleration < 10: acceleration += 0.1\n",
    "        if y >= height - 40: acceleration = 0\n",
    "\n",
    "\n",
    "        # pygame.draw.circle(display, (0, 0, 0), [x - 80, y + 20], 20)\n",
    "        pygame.draw.rect(display, (0, 0, 0), pygame.Rect(x, y, 40, 40))\n",
    "        renderBlocks(display)\n",
    "\n",
    "        frames += 1\n",
    "        if currentTime != math.floor(time.time()):\n",
    "            text = font.render(str(frames), True, (0, 0, 0), (255, 255, 255))\n",
    "            frames = 0\n",
    "            currentTime = math.floor(time.time())\n",
    "\n",
    "        display.blit(text, [10, 10])\n",
    "\n",
    "        if collisionCheck(x, y): acceleration = 0\n",
    "\n",
    "        pygame.time.Clock().tick(120)\n",
    "        pygame.display.flip()\n",
    "        pygame.display.update()\n",
    "\n",
    "    pygame.quit()\n",
    "\n",
    "\n",
    "t1 = Thread(target=Game)\n",
    "t1.start()\n"
   ]
  },
  {
   "cell_type": "code",
   "execution_count": 1,
   "metadata": {},
   "outputs": [],
   "source": [
    "import tensorflow as tf\n",
    "import numpy as np\n"
   ]
  },
  {
   "cell_type": "code",
   "execution_count": 62,
   "metadata": {},
   "outputs": [],
   "source": [
    "x += 30"
   ]
  },
  {
   "cell_type": "code",
   "execution_count": 53,
   "metadata": {},
   "outputs": [],
   "source": [
    "x -= 30"
   ]
  },
  {
   "cell_type": "code",
   "execution_count": 71,
   "metadata": {},
   "outputs": [],
   "source": [
    "acceleration -= 5"
   ]
  }
 ],
 "metadata": {
  "kernelspec": {
   "display_name": "Python 3",
   "language": "python",
   "name": "python3"
  },
  "language_info": {
   "codemirror_mode": {
    "name": "ipython",
    "version": 3
   },
   "file_extension": ".py",
   "mimetype": "text/x-python",
   "name": "python",
   "nbconvert_exporter": "python",
   "pygments_lexer": "ipython3",
   "version": "3.10.11"
  },
  "orig_nbformat": 4
 },
 "nbformat": 4,
 "nbformat_minor": 2
}
