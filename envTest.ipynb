{
 "cells": [
  {
   "cell_type": "code",
   "execution_count": 2,
   "metadata": {},
   "outputs": [
    {
     "name": "stdout",
     "output_type": "stream",
     "text": [
      "15\n",
      "[200, 1310]\n",
      "[416, 1201]\n",
      "[619, 1111]\n",
      "[740, 1022]\n",
      "[562, 933]\n",
      "[351, 843]\n",
      "[133, 754]\n",
      "[0, 665]\n",
      "[170, 575]\n",
      "[380, 486]\n",
      "[611, 397]\n",
      "[740, 307]\n",
      "[740, 218]\n",
      "[740, 129]\n",
      "[740, 39]\n"
     ]
    }
   ],
   "source": [
    "from game import Game\n",
    "\n",
    "env = Game()"
   ]
  },
  {
   "cell_type": "code",
   "execution_count": null,
   "metadata": {},
   "outputs": [],
   "source": [
    "env.render()"
   ]
  },
  {
   "cell_type": "code",
   "execution_count": 10,
   "metadata": {},
   "outputs": [
    {
     "name": "stdout",
     "output_type": "stream",
     "text": [
      "<rect(40, 53, 50, 50)>\n",
      "40\n",
      "<rect(55, 160, 50, 50)>\n",
      "55\n",
      "<rect(18, 92, 50, 50)>\n",
      "18\n",
      "<rect(39, 67, 50, 50)>\n",
      "39\n",
      "<rect(83, 86, 50, 50)>\n",
      "83\n"
     ]
    }
   ],
   "source": [
    "import pygame, random\n",
    "\n",
    "arr = []\n",
    "\n",
    "for i in range(5):\n",
    "    x: int = random.randint(0, 100)\n",
    "    y: int = random.randint(50, 200)\n",
    "\n",
    "    arr.append(pygame.Rect(x, y, 50, 50))\n",
    "\n",
    "for i in arr:\n",
    "    print(i)\n",
    "    print(i[0])"
   ]
  },
  {
   "cell_type": "code",
   "execution_count": null,
   "metadata": {},
   "outputs": [],
   "source": [
    "\n",
    "for i in range(10000):\n",
    "    action = env.action_space.sample()\n",
    "    env.step(action)\n"
   ]
  }
 ],
 "metadata": {
  "kernelspec": {
   "display_name": "test",
   "language": "python",
   "name": "python3"
  },
  "language_info": {
   "codemirror_mode": {
    "name": "ipython",
    "version": 3
   },
   "file_extension": ".py",
   "mimetype": "text/x-python",
   "name": "python",
   "nbconvert_exporter": "python",
   "pygments_lexer": "ipython3",
   "version": "3.10.12"
  },
  "orig_nbformat": 4
 },
 "nbformat": 4,
 "nbformat_minor": 2
}
